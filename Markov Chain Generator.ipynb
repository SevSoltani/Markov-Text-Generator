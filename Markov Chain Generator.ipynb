{
 "cells": [
  {
   "cell_type": "code",
   "execution_count": 1,
   "metadata": {},
   "outputs": [
    {
     "data": {
      "text/plain": [
       "'import re\\nimport codecs\\n\\n#f_edited = codecs.open(\"Edited Conversation.txt\", \"w+\", \"utf-8\")\\n\\n#with open(\\'Corrected_Original_Conversation.txt\\', \\'r\\', encoding = \"utf8\") as f_orig:\\n \\n\\n\\n\\n\\n\\n\\n\\n# first get all lines from file\\nwith open(\\'HTML Source Code\\', \\'r\\', encoding = \"utf8\") as f:\\n    lines = f.readlines()\\n\\n# remove spaces\\nlines = [line.replace(\\' \\', \\'\\') for line in lines]\\n\\n# finally, write lines in the file\\nwith codecs.open(\\'no_space_HTML\\', \\'w+\\', \"utf-8\") as g:\\n    g.writelines(lines)\\n    \\n    \\n    \\n    \\n    '"
      ]
     },
     "execution_count": 1,
     "metadata": {},
     "output_type": "execute_result"
    }
   ],
   "source": [
    "'''import re\n",
    "import codecs\n",
    "\n",
    "#f_edited = codecs.open(\"Edited Conversation.txt\", \"w+\", \"utf-8\")\n",
    "\n",
    "#with open('Corrected_Original_Conversation.txt', 'r', encoding = \"utf8\") as f_orig:\n",
    " \n",
    "\n",
    "\n",
    "\n",
    "\n",
    "\n",
    "\n",
    "\n",
    "# first get all lines from file\n",
    "with open('HTML Source Code', 'r', encoding = \"utf8\") as f:\n",
    "    lines = f.readlines()\n",
    "\n",
    "# remove spaces\n",
    "lines = [line.replace(' ', '') for line in lines]\n",
    "\n",
    "# finally, write lines in the file\n",
    "with codecs.open('no_space_HTML', 'w+', \"utf-8\") as g:\n",
    "    g.writelines(lines)\n",
    "    \n",
    "    \n",
    "    \n",
    "    \n",
    "    '''"
   ]
  },
  {
   "cell_type": "code",
   "execution_count": 2,
   "metadata": {},
   "outputs": [
    {
     "data": {
      "text/plain": [
       "'import re\\n\\ntest_doc = open(\"HTMLTEST.txt\", \"w+\")\\n\\n\\nwith open(\\'no_space_HTML_yes.txt\\', \\'r\\') as document:\\n\\n\\n    for line in document:\\n        s = line\\n        result = re.search(\\'class=\\'sent2\\'>(.*)</div>\\', s)\\n        print (result)\\n        \\n        test_doc.write(\\'+\\'.join([str(x) for x in result]))\\n        \\n      '"
      ]
     },
     "execution_count": 2,
     "metadata": {},
     "output_type": "execute_result"
    }
   ],
   "source": [
    "'''import re\n",
    "\n",
    "test_doc = open(\"HTMLTEST.txt\", \"w+\")\n",
    "\n",
    "\n",
    "with open('no_space_HTML_yes.txt', 'r') as document:\n",
    "\n",
    "\n",
    "    for line in document:\n",
    "        s = line\n",
    "        result = re.search('class=\\'sent2\\'>(.*)</div>', s)\n",
    "        print (result)\n",
    "        \n",
    "        test_doc.write('+'.join([str(x) for x in result]))\n",
    "        \n",
    "      '''"
   ]
  },
  {
   "cell_type": "code",
   "execution_count": 3,
   "metadata": {},
   "outputs": [
    {
     "data": {
      "text/plain": [
       "'import re\\nimport codecs\\n\\n#f_edited = codecs.open(\"Edited Conversation.txt\", \"w+\", \"utf-8\")\\n\\n#with open(\\'Corrected_Original_Conversation.txt\\', \\'r\\', encoding = \"utf8\") as f_orig:\\n \\n\\n\\n\\n# first get all lines from file\\nwith open(\\'HTML Source Code\\', \\'r\\', encoding = \"utf8\") as f:\\n    lines = f.readlines()\\n    with codecs.open(\\'HTML_Lines\\', \\'w+\\', \"utf-8\") as g:\\n        g.writelines(lines)'"
      ]
     },
     "execution_count": 3,
     "metadata": {},
     "output_type": "execute_result"
    }
   ],
   "source": [
    "'''import re\n",
    "import codecs\n",
    "\n",
    "#f_edited = codecs.open(\"Edited Conversation.txt\", \"w+\", \"utf-8\")\n",
    "\n",
    "#with open('Corrected_Original_Conversation.txt', 'r', encoding = \"utf8\") as f_orig:\n",
    " \n",
    "\n",
    "\n",
    "\n",
    "# first get all lines from file\n",
    "with open('HTML Source Code', 'r', encoding = \"utf8\") as f:\n",
    "    lines = f.readlines()\n",
    "    with codecs.open('HTML_Lines', 'w+', \"utf-8\") as g:\n",
    "        g.writelines(lines)'''"
   ]
  },
  {
   "cell_type": "code",
   "execution_count": 4,
   "metadata": {},
   "outputs": [],
   "source": [
    "import re\n",
    "\n",
    "set1 = []\n",
    "with open(\"HTML_Lines_yes.txt\", 'r', encoding = \"utf8\") as f:\n",
    "    for line in f: \n",
    "        string = line\n",
    "        matches = re.findall(r'\\'sent2\\'>.+?</div>',string)\n",
    "        #print (matches)\n",
    "        set1.append(matches)\n",
    "        #print (set1[0:3])\n",
    "        '''for each in set1:\n",
    "            each.replace('\\'sent2\\'>', '').replace(' </div>', '')'''\n",
    "    \n",
    "words = [[y.replace('\\'sent2\\'>', '').replace(' </div>', '').replace('</div>', '') for y in row] for row in set1]\n",
    "#words2 = [[y.replace(' </div>', '') for y in row] for row in words]\n",
    "\n",
    "'''\n",
    "bad_characters = [\"/\", \"\\\\\", \":\", \"(\", \")\", \"<\", \">\", \"|\", \"?\", \"*\"]\n",
    "for letter in bad_characters:\n",
    "    filename = line[2].replace(letter, \"_\")\n",
    "    foldername = line[5].replace(letter, \"_\")\n",
    "\n",
    "'''\n",
    "\n",
    "\n",
    "\n",
    "#print (words[0:5])\n",
    "str1 = \"\\\\'\"\n",
    "str2 = \"'\"\n",
    "#print (str1)\n",
    "#print (str2)\n",
    "\n",
    "words2 = [[y.replace(\"\\\\\", \"'\") for y in row] for row in words]\n",
    "\n",
    "with open(\"escape_file.txt\", 'w', encoding = \"utf8\") as esc:\n",
    "    for each in words:\n",
    "        for something in each:\n",
    "            esc.writelines(something+\"\\n\")\n",
    "            \n",
    "\n",
    "\n",
    "        \n",
    "#str3 = \" :) \"\n",
    "#str4 = \":)\"\n",
    "#str5 =\n",
    "#print (words2[0:5])\n",
    "\n",
    "        "
   ]
  },
  {
   "cell_type": "code",
   "execution_count": 5,
   "metadata": {},
   "outputs": [
    {
     "ename": "NameError",
     "evalue": "name 'data' is not defined",
     "output_type": "error",
     "traceback": [
      "\u001b[1;31m---------------------------------------------------------------------------\u001b[0m",
      "\u001b[1;31mNameError\u001b[0m                                 Traceback (most recent call last)",
      "\u001b[1;32m<ipython-input-5-fb623a82bf1c>\u001b[0m in \u001b[0;36m<module>\u001b[1;34m()\u001b[0m\n\u001b[0;32m     14\u001b[0m \u001b[1;33m\u001b[0m\u001b[0m\n\u001b[0;32m     15\u001b[0m \u001b[0malex\u001b[0m \u001b[1;33m=\u001b[0m \u001b[0malex\u001b[0m\u001b[1;33m.\u001b[0m\u001b[0msplit\u001b[0m\u001b[1;33m(\u001b[0m\u001b[1;34m' '\u001b[0m\u001b[1;33m)\u001b[0m\u001b[1;33m\u001b[0m\u001b[0m\n\u001b[1;32m---> 16\u001b[1;33m \u001b[0malex\u001b[0m \u001b[1;33m=\u001b[0m \u001b[1;33m[\u001b[0m\u001b[0mx\u001b[0m\u001b[1;33m.\u001b[0m\u001b[0mlower\u001b[0m\u001b[1;33m(\u001b[0m\u001b[1;33m)\u001b[0m \u001b[1;32mfor\u001b[0m \u001b[0mx\u001b[0m \u001b[1;32min\u001b[0m \u001b[0mdata\u001b[0m\u001b[1;33m]\u001b[0m\u001b[1;33m\u001b[0m\u001b[0m\n\u001b[0m\u001b[0;32m     17\u001b[0m \u001b[1;33m\u001b[0m\u001b[0m\n\u001b[0;32m     18\u001b[0m \u001b[1;33m\u001b[0m\u001b[0m\n",
      "\u001b[1;31mNameError\u001b[0m: name 'data' is not defined"
     ]
    }
   ],
   "source": [
    "import numpy as np\n",
    "import random as random\n",
    "\n",
    "\n",
    "alex = open(\"escape_file.txt\", encoding='utf8').read()\n",
    "\n",
    "with open('escape_file.txt', encoding='utf8') as f:\n",
    "    alex = ' '.join(line.rstrip() for line in f)\n",
    "\n",
    "\n",
    "\n",
    "\n",
    "\n",
    "\n",
    "alex = alex.split(' ')\n",
    "alex = [x.lower() for x in data]\n",
    "\n",
    "\n",
    "lower_to_upper = [\"i'll\", \"i'm\", \"i'd\", \"i've\"]\n",
    "for each in lower_to_upper:\n",
    "    for something in alex:\n",
    "        if something is each:\n",
    "            something.replace(each, each.capitalize())\n",
    "    \n",
    "\n",
    "    \n",
    "\n",
    "chain = {}\n",
    "\n",
    "index = 1\n",
    "for word in alex[index:]:\n",
    "    key = data[index - 1]\n",
    "    if key in chain:\n",
    "        chain[key].append(word)\n",
    "    else:\n",
    "        chain[key] = [word]\n",
    "    index += 1\n",
    "\n",
    "#print (chain)\n",
    "\n",
    "\n",
    "count = 10\n",
    "word1 = random.choice(list(chain.keys()))\n",
    "message = word1.capitalize()\n",
    "\n",
    "while len(message.split(' ')) < count:\n",
    "    word2 = random.choice(chain[word1])\n",
    "    word1 = word2\n",
    "    message += ' ' + word2\n",
    "    \n",
    "    \n",
    "    \n",
    "'''lower_to_upper = [\"i'll\", \"i'm\", \"i'd\", \"i've\"]\n",
    "for each in lower_to_upper:\n",
    "    if each in message:\n",
    "        message.replace(each, each.capitalize())\n",
    "    '''\n",
    "    \n",
    "\n",
    "print (message)\n",
    "\n",
    "\n",
    "\n",
    "\n",
    "\n",
    "'''with open(\"alex_lines.txt\", 'w', encoding = \"utf8\") as alex_lines:\n",
    "    alex_lines.write(alex)'''\n",
    "#print (alex)\n",
    "    \n",
    "\n",
    "    "
   ]
  },
  {
   "cell_type": "code",
   "execution_count": 6,
   "metadata": {},
   "outputs": [],
   "source": [
    "def file_formatting(text_file):\n",
    "\n",
    "    data = open(text_file, encoding='utf8').read()\n",
    "\n",
    "    with open(text_file, encoding='utf8') as f:\n",
    "        data = ' '.join(line.rstrip() for line in f)\n",
    "\n",
    "    data = data.split(' ')\n",
    "    data = [x.lower() for x in data]\n",
    "\n",
    "    return data;"
   ]
  },
  {
   "cell_type": "code",
   "execution_count": 7,
   "metadata": {},
   "outputs": [],
   "source": [
    "def create_dictionary(list_of_words, chain = {}):\n",
    "\n",
    "    data = list_of_words\n",
    "    index = 1\n",
    "    for word in list_of_words[index:]:\n",
    "        key = data[index - 1]\n",
    "        if key in chain:\n",
    "            chain[key].append(word)\n",
    "        else:\n",
    "            chain[key] = [word]\n",
    "        index += 1\n",
    "    \n",
    "    return chain;\n"
   ]
  },
  {
   "cell_type": "code",
   "execution_count": 8,
   "metadata": {},
   "outputs": [],
   "source": [
    "def create_message(chain_dictionary):\n",
    "    #count = wordcount\n",
    "    word1 = random.choice(list(chain_dictionary.keys()))\n",
    "    message = word1.capitalize()\n",
    "\n",
    "    while message[len(message)-1] != \".\":\n",
    "        word2 = random.choice(chain_dictionary[word1])\n",
    "        word1 = word2\n",
    "        message += ' ' + word2\n",
    "        if message[len(message)-1] == \".\":\n",
    "            break\n",
    "    \n",
    "    return message\n",
    "    #print (message)\n",
    "    "
   ]
  },
  {
   "cell_type": "code",
   "execution_count": 9,
   "metadata": {},
   "outputs": [],
   "source": [
    "def message_cleanup(message):\n",
    "    new_message = message.split(\" \")\n",
    "    for each in new_message:\n",
    "        if each == \"i\":\n",
    "            each.replace(\" i \", \" I \")\n",
    "        else:\n",
    "            pass\n",
    "    return new_message"
   ]
  },
  {
   "cell_type": "code",
   "execution_count": 10,
   "metadata": {},
   "outputs": [
    {
     "name": "stdout",
     "output_type": "stream",
     "text": [
      "How, and good at kevin not included.\n",
      "App and well.\n",
      "Adventure! to halloween, are you in your eggs it upgraded to wasting time you want to their presence.\n",
      "Quarter as well if we spent quite enjoyable.\n",
      "Convoluted.\n",
      "Pos fall off requires pushing it, it's a nice and jolly.\n",
      "Appears!!! oh are \"praying to a week with 1/1? sounds good.\n",
      "(sugar and duration.\n",
      "Yourself though.\n",
      "Knees, and i'm helping a higher the story in to have enough you of us writing lots of questions, hopefully my way, next time.\n"
     ]
    }
   ],
   "source": [
    "import numpy as np\n",
    "import random as random\n",
    "\n",
    "for x in range(0,10):\n",
    "    file = file_formatting(\"escape_file.txt\")\n",
    "    chain = create_dictionary(file)\n",
    "    message = create_message(chain)\n",
    "    #clean_message = message_cleanup(message)\n",
    "    print (message)"
   ]
  },
  {
   "cell_type": "code",
   "execution_count": null,
   "metadata": {},
   "outputs": [],
   "source": []
  },
  {
   "cell_type": "code",
   "execution_count": null,
   "metadata": {},
   "outputs": [],
   "source": []
  }
 ],
 "metadata": {
  "kernelspec": {
   "display_name": "Python 3",
   "language": "python",
   "name": "python3"
  },
  "language_info": {
   "codemirror_mode": {
    "name": "ipython",
    "version": 3
   },
   "file_extension": ".py",
   "mimetype": "text/x-python",
   "name": "python",
   "nbconvert_exporter": "python",
   "pygments_lexer": "ipython3",
   "version": "3.6.5"
  }
 },
 "nbformat": 4,
 "nbformat_minor": 2
}

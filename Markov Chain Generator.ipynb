{
 "cells": [
  {
   "cell_type": "code",
   "execution_count": null,
   "metadata": {},
   "outputs": [],
   "source": [
    "def file_formatting(text_file):\n",
    "\n",
    "    data = open(text_file, encoding = 'utf8').read()\n",
    "\n",
    "    with open(text_file, encoding = 'utf8') as f:\n",
    "        data = ' '.join(line.rstrip() for line in f)\n",
    "\n",
    "    data = data.split(' ')\n",
    "    data = [x.lower() for x in data] # lowercase everything\n",
    "\n",
    "    return data;"
   ]
  },
  {
   "cell_type": "code",
   "execution_count": null,
   "metadata": {},
   "outputs": [],
   "source": [
    "def dict_of_words(list_of_words, Markov_chain = {}):\n",
    "\n",
    "    data = list_of_words\n",
    "    index = 1\n",
    "    for word in list_of_words[index:]:\n",
    "        key = data[index - 1]\n",
    "        if key in Markov_chain:\n",
    "            Markov_chain[key].append(word) # repeated word\n",
    "        else:\n",
    "            Markov_chain[key] = [word] # new word in dictionary\n",
    "        index += 1\n",
    "    \n",
    "    return Markov_chain;"
   ]
  },
  {
   "cell_type": "code",
   "execution_count": null,
   "metadata": {},
   "outputs": [],
   "source": [
    "def create_sentence(dictionary):\n",
    "    \n",
    "    init_word = random.choice(list(dictionary.keys())) # pick random starting word\n",
    "    sentence = init_word.capitalize()\n",
    "\n",
    "    while sentence[len(sentence) - 1] != \".\":\n",
    "        next_word = random.choice(dictionary[init_word])\n",
    "        init_word = next_word\n",
    "        sentence += ' ' + next_word # keep appending words\n",
    "        if sentence[len(sentence) - 1] == \".\":\n",
    "            break # stop when '.' is reached; ensures full sentence\n",
    "    \n",
    "    return sentence\n",
    "    "
   ]
  },
  {
   "cell_type": "code",
   "execution_count": null,
   "metadata": {},
   "outputs": [],
   "source": [
    "def polish_sentence(message):\n",
    "    new_message = message.split(\" \")\n",
    "    for each in new_message:\n",
    "        if each == \"i\":\n",
    "            each.replace(\" i \", \" I \") # capitalize 'i'\n",
    "        else:\n",
    "            pass\n",
    "    \n",
    "    # TODO\n",
    "    # Refine further\n",
    "    return new_message"
   ]
  },
  {
   "cell_type": "code",
   "execution_count": null,
   "metadata": {},
   "outputs": [],
   "source": [
    "for x in range(0,10):\n",
    "    file = file_formatting(\"your_file.txt\")\n",
    "    chain = dict_of_words(file)\n",
    "    message = create_sentence(chain)\n",
    "    \n",
    "    print (message) # prints 10 sentences"
   ]
  },
  {
   "cell_type": "code",
   "execution_count": null,
   "metadata": {},
   "outputs": [],
   "source": []
  }
 ],
 "metadata": {
  "kernelspec": {
   "display_name": "Python 3",
   "language": "python",
   "name": "python3"
  },
  "language_info": {
   "codemirror_mode": {
    "name": "ipython",
    "version": 3
   },
   "file_extension": ".py",
   "mimetype": "text/x-python",
   "name": "python",
   "nbconvert_exporter": "python",
   "pygments_lexer": "ipython3",
   "version": "3.6.5"
  }
 },
 "nbformat": 4,
 "nbformat_minor": 2
}
